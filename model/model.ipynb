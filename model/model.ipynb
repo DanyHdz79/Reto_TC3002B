{
 "cells": [
  {
   "cell_type": "code",
   "execution_count": 126,
   "id": "72a568b4-61c4-41f7-a367-e14032df0985",
   "metadata": {},
   "outputs": [],
   "source": [
    "import pandas as pd\n",
    "from sklearn.ensemble import RandomForestClassifier\n",
    "from sklearn.model_selection import train_test_split\n",
    "from joblib import dump\n",
    "from imblearn.over_sampling import SMOTE\n",
    "from imblearn.under_sampling import RandomUnderSampler\n",
    "from imblearn.pipeline import Pipeline"
   ]
  },
  {
   "cell_type": "code",
   "execution_count": 127,
   "id": "a45c1a87-079c-4912-8597-dc91bcedd635",
   "metadata": {},
   "outputs": [
    {
     "data": {
      "text/html": [
       "<div>\n",
       "<style scoped>\n",
       "    .dataframe tbody tr th:only-of-type {\n",
       "        vertical-align: middle;\n",
       "    }\n",
       "\n",
       "    .dataframe tbody tr th {\n",
       "        vertical-align: top;\n",
       "    }\n",
       "\n",
       "    .dataframe thead th {\n",
       "        text-align: right;\n",
       "    }\n",
       "</style>\n",
       "<table border=\"1\" class=\"dataframe\">\n",
       "  <thead>\n",
       "    <tr style=\"text-align: right;\">\n",
       "      <th></th>\n",
       "      <th>File Name 1</th>\n",
       "      <th>File Name 2</th>\n",
       "      <th>Per_Functions</th>\n",
       "      <th>Per_Loops</th>\n",
       "      <th>Per_Conditionals</th>\n",
       "      <th>Per_Arithmetic_Operations</th>\n",
       "      <th>Per_int_Declarations</th>\n",
       "      <th>Per_float_Declarations</th>\n",
       "      <th>Per_char_Declarations</th>\n",
       "      <th>Jaccard_Metric</th>\n",
       "      <th>Euclidean_Distance</th>\n",
       "      <th>label</th>\n",
       "    </tr>\n",
       "  </thead>\n",
       "  <tbody>\n",
       "    <tr>\n",
       "      <th>0</th>\n",
       "      <td>000.c</td>\n",
       "      <td>001.c</td>\n",
       "      <td>0.518519</td>\n",
       "      <td>0.166667</td>\n",
       "      <td>0.250000</td>\n",
       "      <td>0.000000</td>\n",
       "      <td>0.166667</td>\n",
       "      <td>0</td>\n",
       "      <td>0.018182</td>\n",
       "      <td>0.818182</td>\n",
       "      <td>0.096436</td>\n",
       "      <td>0</td>\n",
       "    </tr>\n",
       "    <tr>\n",
       "      <th>1</th>\n",
       "      <td>000.c</td>\n",
       "      <td>002.c</td>\n",
       "      <td>0.928571</td>\n",
       "      <td>0.333333</td>\n",
       "      <td>0.500000</td>\n",
       "      <td>0.000000</td>\n",
       "      <td>0.250000</td>\n",
       "      <td>0</td>\n",
       "      <td>0.250000</td>\n",
       "      <td>0.818182</td>\n",
       "      <td>0.224555</td>\n",
       "      <td>0</td>\n",
       "    </tr>\n",
       "    <tr>\n",
       "      <th>2</th>\n",
       "      <td>000.c</td>\n",
       "      <td>003.c</td>\n",
       "      <td>0.875000</td>\n",
       "      <td>1.000000</td>\n",
       "      <td>1.000000</td>\n",
       "      <td>0.000000</td>\n",
       "      <td>0.500000</td>\n",
       "      <td>0</td>\n",
       "      <td>0.000000</td>\n",
       "      <td>0.777778</td>\n",
       "      <td>0.590838</td>\n",
       "      <td>0</td>\n",
       "    </tr>\n",
       "    <tr>\n",
       "      <th>3</th>\n",
       "      <td>000.c</td>\n",
       "      <td>004.c</td>\n",
       "      <td>0.785714</td>\n",
       "      <td>0.000000</td>\n",
       "      <td>0.500000</td>\n",
       "      <td>0.000000</td>\n",
       "      <td>0.000000</td>\n",
       "      <td>0</td>\n",
       "      <td>0.000000</td>\n",
       "      <td>0.555556</td>\n",
       "      <td>0.397426</td>\n",
       "      <td>0</td>\n",
       "    </tr>\n",
       "    <tr>\n",
       "      <th>4</th>\n",
       "      <td>000.c</td>\n",
       "      <td>005.c</td>\n",
       "      <td>0.714286</td>\n",
       "      <td>0.333333</td>\n",
       "      <td>0.500000</td>\n",
       "      <td>0.000000</td>\n",
       "      <td>0.200000</td>\n",
       "      <td>0</td>\n",
       "      <td>0.142857</td>\n",
       "      <td>0.666667</td>\n",
       "      <td>0.207626</td>\n",
       "      <td>0</td>\n",
       "    </tr>\n",
       "    <tr>\n",
       "      <th>...</th>\n",
       "      <td>...</td>\n",
       "      <td>...</td>\n",
       "      <td>...</td>\n",
       "      <td>...</td>\n",
       "      <td>...</td>\n",
       "      <td>...</td>\n",
       "      <td>...</td>\n",
       "      <td>...</td>\n",
       "      <td>...</td>\n",
       "      <td>...</td>\n",
       "      <td>...</td>\n",
       "      <td>...</td>\n",
       "    </tr>\n",
       "    <tr>\n",
       "      <th>2998</th>\n",
       "      <td>074.c</td>\n",
       "      <td>076.c</td>\n",
       "      <td>0.262500</td>\n",
       "      <td>0.333333</td>\n",
       "      <td>0.225806</td>\n",
       "      <td>0.107143</td>\n",
       "      <td>0.333333</td>\n",
       "      <td>0</td>\n",
       "      <td>0.224138</td>\n",
       "      <td>1.000000</td>\n",
       "      <td>0.285272</td>\n",
       "      <td>0</td>\n",
       "    </tr>\n",
       "    <tr>\n",
       "      <th>2999</th>\n",
       "      <td>074.c</td>\n",
       "      <td>077.c</td>\n",
       "      <td>0.412500</td>\n",
       "      <td>0.222222</td>\n",
       "      <td>0.548387</td>\n",
       "      <td>0.285714</td>\n",
       "      <td>0.227273</td>\n",
       "      <td>0</td>\n",
       "      <td>0.149425</td>\n",
       "      <td>1.000000</td>\n",
       "      <td>0.268711</td>\n",
       "      <td>0</td>\n",
       "    </tr>\n",
       "    <tr>\n",
       "      <th>3000</th>\n",
       "      <td>075.c</td>\n",
       "      <td>076.c</td>\n",
       "      <td>0.552632</td>\n",
       "      <td>0.166667</td>\n",
       "      <td>0.500000</td>\n",
       "      <td>0.000000</td>\n",
       "      <td>0.909091</td>\n",
       "      <td>0</td>\n",
       "      <td>0.155172</td>\n",
       "      <td>0.916667</td>\n",
       "      <td>0.263410</td>\n",
       "      <td>0</td>\n",
       "    </tr>\n",
       "    <tr>\n",
       "      <th>3001</th>\n",
       "      <td>075.c</td>\n",
       "      <td>077.c</td>\n",
       "      <td>0.868421</td>\n",
       "      <td>0.111111</td>\n",
       "      <td>0.823529</td>\n",
       "      <td>0.000000</td>\n",
       "      <td>0.083333</td>\n",
       "      <td>0</td>\n",
       "      <td>0.103448</td>\n",
       "      <td>0.916667</td>\n",
       "      <td>0.258249</td>\n",
       "      <td>0</td>\n",
       "    </tr>\n",
       "    <tr>\n",
       "      <th>3002</th>\n",
       "      <td>076.c</td>\n",
       "      <td>077.c</td>\n",
       "      <td>0.636364</td>\n",
       "      <td>0.666667</td>\n",
       "      <td>0.411765</td>\n",
       "      <td>0.375000</td>\n",
       "      <td>0.075758</td>\n",
       "      <td>0</td>\n",
       "      <td>0.666667</td>\n",
       "      <td>1.000000</td>\n",
       "      <td>0.523727</td>\n",
       "      <td>1</td>\n",
       "    </tr>\n",
       "  </tbody>\n",
       "</table>\n",
       "<p>3003 rows × 12 columns</p>\n",
       "</div>"
      ],
      "text/plain": [
       "     File Name 1 File Name 2  Per_Functions  Per_Loops  Per_Conditionals  \\\n",
       "0          000.c       001.c       0.518519   0.166667          0.250000   \n",
       "1          000.c       002.c       0.928571   0.333333          0.500000   \n",
       "2          000.c       003.c       0.875000   1.000000          1.000000   \n",
       "3          000.c       004.c       0.785714   0.000000          0.500000   \n",
       "4          000.c       005.c       0.714286   0.333333          0.500000   \n",
       "...          ...         ...            ...        ...               ...   \n",
       "2998       074.c       076.c       0.262500   0.333333          0.225806   \n",
       "2999       074.c       077.c       0.412500   0.222222          0.548387   \n",
       "3000       075.c       076.c       0.552632   0.166667          0.500000   \n",
       "3001       075.c       077.c       0.868421   0.111111          0.823529   \n",
       "3002       076.c       077.c       0.636364   0.666667          0.411765   \n",
       "\n",
       "      Per_Arithmetic_Operations  Per_int_Declarations  Per_float_Declarations  \\\n",
       "0                      0.000000              0.166667                       0   \n",
       "1                      0.000000              0.250000                       0   \n",
       "2                      0.000000              0.500000                       0   \n",
       "3                      0.000000              0.000000                       0   \n",
       "4                      0.000000              0.200000                       0   \n",
       "...                         ...                   ...                     ...   \n",
       "2998                   0.107143              0.333333                       0   \n",
       "2999                   0.285714              0.227273                       0   \n",
       "3000                   0.000000              0.909091                       0   \n",
       "3001                   0.000000              0.083333                       0   \n",
       "3002                   0.375000              0.075758                       0   \n",
       "\n",
       "      Per_char_Declarations  Jaccard_Metric  Euclidean_Distance  label  \n",
       "0                  0.018182        0.818182            0.096436      0  \n",
       "1                  0.250000        0.818182            0.224555      0  \n",
       "2                  0.000000        0.777778            0.590838      0  \n",
       "3                  0.000000        0.555556            0.397426      0  \n",
       "4                  0.142857        0.666667            0.207626      0  \n",
       "...                     ...             ...                 ...    ...  \n",
       "2998               0.224138        1.000000            0.285272      0  \n",
       "2999               0.149425        1.000000            0.268711      0  \n",
       "3000               0.155172        0.916667            0.263410      0  \n",
       "3001               0.103448        0.916667            0.258249      0  \n",
       "3002               0.666667        1.000000            0.523727      1  \n",
       "\n",
       "[3003 rows x 12 columns]"
      ]
     },
     "execution_count": 127,
     "metadata": {},
     "output_type": "execute_result"
    }
   ],
   "source": [
    "data = pd.read_excel(\"./code_plagiarism.xls\")\n",
    "data"
   ]
  },
  {
   "cell_type": "code",
   "execution_count": 128,
   "id": "8aaef007-bd58-4916-93a0-e18a0ef80731",
   "metadata": {},
   "outputs": [
    {
     "data": {
      "text/plain": [
       "File Name 1                  100.000000\n",
       "File Name 2                  100.000000\n",
       "Per_Functions                100.000000\n",
       "Per_Loops                     73.626374\n",
       "Per_Conditionals              87.512488\n",
       "Per_Arithmetic_Operations     40.792541\n",
       "Per_int_Declarations          67.132867\n",
       "Per_float_Declarations         0.000000\n",
       "Per_char_Declarations         53.146853\n",
       "Jaccard_Metric               100.000000\n",
       "Euclidean_Distance           100.000000\n",
       "label                          0.865801\n",
       "dtype: float64"
      ]
     },
     "execution_count": 128,
     "metadata": {},
     "output_type": "execute_result"
    }
   ],
   "source": [
    "non_zero_cells_per_column = data.astype(bool).sum(axis=0)\n",
    "percentages_non_zero_cells_per_column = (non_zero_cells_per_column * 100) / (data.shape[0])\n",
    "percentages_non_zero_cells_per_column"
   ]
  },
  {
   "cell_type": "code",
   "execution_count": 129,
   "id": "66efb11c-6100-497d-81a2-bbf43db6b574",
   "metadata": {},
   "outputs": [
    {
     "data": {
      "text/plain": [
       "Index(['Per_float_Declarations'], dtype='object')"
      ]
     },
     "execution_count": 129,
     "metadata": {},
     "output_type": "execute_result"
    }
   ],
   "source": [
    "# Obtaining the columns that have more than 90% of null values\n",
    "columns_to_drop = percentages_non_zero_cells_per_column < 10\n",
    "columns_to_drop = columns_to_drop[columns_to_drop]\n",
    "columns_to_drop = columns_to_drop.index\n",
    "columns_to_drop = columns_to_drop.drop(\"label\")\n",
    "columns_to_drop"
   ]
  },
  {
   "cell_type": "code",
   "execution_count": 130,
   "id": "cd5ce558-bbf2-4ff1-9a54-2c5e2a78096a",
   "metadata": {},
   "outputs": [
    {
     "data": {
      "text/html": [
       "<div>\n",
       "<style scoped>\n",
       "    .dataframe tbody tr th:only-of-type {\n",
       "        vertical-align: middle;\n",
       "    }\n",
       "\n",
       "    .dataframe tbody tr th {\n",
       "        vertical-align: top;\n",
       "    }\n",
       "\n",
       "    .dataframe thead th {\n",
       "        text-align: right;\n",
       "    }\n",
       "</style>\n",
       "<table border=\"1\" class=\"dataframe\">\n",
       "  <thead>\n",
       "    <tr style=\"text-align: right;\">\n",
       "      <th></th>\n",
       "      <th>File Name 1</th>\n",
       "      <th>File Name 2</th>\n",
       "      <th>Per_Functions</th>\n",
       "      <th>Per_Loops</th>\n",
       "      <th>Per_Conditionals</th>\n",
       "      <th>Per_Arithmetic_Operations</th>\n",
       "      <th>Per_int_Declarations</th>\n",
       "      <th>Per_char_Declarations</th>\n",
       "      <th>Jaccard_Metric</th>\n",
       "      <th>Euclidean_Distance</th>\n",
       "      <th>label</th>\n",
       "    </tr>\n",
       "  </thead>\n",
       "  <tbody>\n",
       "    <tr>\n",
       "      <th>0</th>\n",
       "      <td>000.c</td>\n",
       "      <td>001.c</td>\n",
       "      <td>0.518519</td>\n",
       "      <td>0.166667</td>\n",
       "      <td>0.250000</td>\n",
       "      <td>0.000000</td>\n",
       "      <td>0.166667</td>\n",
       "      <td>0.018182</td>\n",
       "      <td>0.818182</td>\n",
       "      <td>0.096436</td>\n",
       "      <td>0</td>\n",
       "    </tr>\n",
       "    <tr>\n",
       "      <th>1</th>\n",
       "      <td>000.c</td>\n",
       "      <td>002.c</td>\n",
       "      <td>0.928571</td>\n",
       "      <td>0.333333</td>\n",
       "      <td>0.500000</td>\n",
       "      <td>0.000000</td>\n",
       "      <td>0.250000</td>\n",
       "      <td>0.250000</td>\n",
       "      <td>0.818182</td>\n",
       "      <td>0.224555</td>\n",
       "      <td>0</td>\n",
       "    </tr>\n",
       "    <tr>\n",
       "      <th>2</th>\n",
       "      <td>000.c</td>\n",
       "      <td>003.c</td>\n",
       "      <td>0.875000</td>\n",
       "      <td>1.000000</td>\n",
       "      <td>1.000000</td>\n",
       "      <td>0.000000</td>\n",
       "      <td>0.500000</td>\n",
       "      <td>0.000000</td>\n",
       "      <td>0.777778</td>\n",
       "      <td>0.590838</td>\n",
       "      <td>0</td>\n",
       "    </tr>\n",
       "    <tr>\n",
       "      <th>3</th>\n",
       "      <td>000.c</td>\n",
       "      <td>004.c</td>\n",
       "      <td>0.785714</td>\n",
       "      <td>0.000000</td>\n",
       "      <td>0.500000</td>\n",
       "      <td>0.000000</td>\n",
       "      <td>0.000000</td>\n",
       "      <td>0.000000</td>\n",
       "      <td>0.555556</td>\n",
       "      <td>0.397426</td>\n",
       "      <td>0</td>\n",
       "    </tr>\n",
       "    <tr>\n",
       "      <th>4</th>\n",
       "      <td>000.c</td>\n",
       "      <td>005.c</td>\n",
       "      <td>0.714286</td>\n",
       "      <td>0.333333</td>\n",
       "      <td>0.500000</td>\n",
       "      <td>0.000000</td>\n",
       "      <td>0.200000</td>\n",
       "      <td>0.142857</td>\n",
       "      <td>0.666667</td>\n",
       "      <td>0.207626</td>\n",
       "      <td>0</td>\n",
       "    </tr>\n",
       "    <tr>\n",
       "      <th>...</th>\n",
       "      <td>...</td>\n",
       "      <td>...</td>\n",
       "      <td>...</td>\n",
       "      <td>...</td>\n",
       "      <td>...</td>\n",
       "      <td>...</td>\n",
       "      <td>...</td>\n",
       "      <td>...</td>\n",
       "      <td>...</td>\n",
       "      <td>...</td>\n",
       "      <td>...</td>\n",
       "    </tr>\n",
       "    <tr>\n",
       "      <th>2998</th>\n",
       "      <td>074.c</td>\n",
       "      <td>076.c</td>\n",
       "      <td>0.262500</td>\n",
       "      <td>0.333333</td>\n",
       "      <td>0.225806</td>\n",
       "      <td>0.107143</td>\n",
       "      <td>0.333333</td>\n",
       "      <td>0.224138</td>\n",
       "      <td>1.000000</td>\n",
       "      <td>0.285272</td>\n",
       "      <td>0</td>\n",
       "    </tr>\n",
       "    <tr>\n",
       "      <th>2999</th>\n",
       "      <td>074.c</td>\n",
       "      <td>077.c</td>\n",
       "      <td>0.412500</td>\n",
       "      <td>0.222222</td>\n",
       "      <td>0.548387</td>\n",
       "      <td>0.285714</td>\n",
       "      <td>0.227273</td>\n",
       "      <td>0.149425</td>\n",
       "      <td>1.000000</td>\n",
       "      <td>0.268711</td>\n",
       "      <td>0</td>\n",
       "    </tr>\n",
       "    <tr>\n",
       "      <th>3000</th>\n",
       "      <td>075.c</td>\n",
       "      <td>076.c</td>\n",
       "      <td>0.552632</td>\n",
       "      <td>0.166667</td>\n",
       "      <td>0.500000</td>\n",
       "      <td>0.000000</td>\n",
       "      <td>0.909091</td>\n",
       "      <td>0.155172</td>\n",
       "      <td>0.916667</td>\n",
       "      <td>0.263410</td>\n",
       "      <td>0</td>\n",
       "    </tr>\n",
       "    <tr>\n",
       "      <th>3001</th>\n",
       "      <td>075.c</td>\n",
       "      <td>077.c</td>\n",
       "      <td>0.868421</td>\n",
       "      <td>0.111111</td>\n",
       "      <td>0.823529</td>\n",
       "      <td>0.000000</td>\n",
       "      <td>0.083333</td>\n",
       "      <td>0.103448</td>\n",
       "      <td>0.916667</td>\n",
       "      <td>0.258249</td>\n",
       "      <td>0</td>\n",
       "    </tr>\n",
       "    <tr>\n",
       "      <th>3002</th>\n",
       "      <td>076.c</td>\n",
       "      <td>077.c</td>\n",
       "      <td>0.636364</td>\n",
       "      <td>0.666667</td>\n",
       "      <td>0.411765</td>\n",
       "      <td>0.375000</td>\n",
       "      <td>0.075758</td>\n",
       "      <td>0.666667</td>\n",
       "      <td>1.000000</td>\n",
       "      <td>0.523727</td>\n",
       "      <td>1</td>\n",
       "    </tr>\n",
       "  </tbody>\n",
       "</table>\n",
       "<p>3003 rows × 11 columns</p>\n",
       "</div>"
      ],
      "text/plain": [
       "     File Name 1 File Name 2  Per_Functions  Per_Loops  Per_Conditionals  \\\n",
       "0          000.c       001.c       0.518519   0.166667          0.250000   \n",
       "1          000.c       002.c       0.928571   0.333333          0.500000   \n",
       "2          000.c       003.c       0.875000   1.000000          1.000000   \n",
       "3          000.c       004.c       0.785714   0.000000          0.500000   \n",
       "4          000.c       005.c       0.714286   0.333333          0.500000   \n",
       "...          ...         ...            ...        ...               ...   \n",
       "2998       074.c       076.c       0.262500   0.333333          0.225806   \n",
       "2999       074.c       077.c       0.412500   0.222222          0.548387   \n",
       "3000       075.c       076.c       0.552632   0.166667          0.500000   \n",
       "3001       075.c       077.c       0.868421   0.111111          0.823529   \n",
       "3002       076.c       077.c       0.636364   0.666667          0.411765   \n",
       "\n",
       "      Per_Arithmetic_Operations  Per_int_Declarations  Per_char_Declarations  \\\n",
       "0                      0.000000              0.166667               0.018182   \n",
       "1                      0.000000              0.250000               0.250000   \n",
       "2                      0.000000              0.500000               0.000000   \n",
       "3                      0.000000              0.000000               0.000000   \n",
       "4                      0.000000              0.200000               0.142857   \n",
       "...                         ...                   ...                    ...   \n",
       "2998                   0.107143              0.333333               0.224138   \n",
       "2999                   0.285714              0.227273               0.149425   \n",
       "3000                   0.000000              0.909091               0.155172   \n",
       "3001                   0.000000              0.083333               0.103448   \n",
       "3002                   0.375000              0.075758               0.666667   \n",
       "\n",
       "      Jaccard_Metric  Euclidean_Distance  label  \n",
       "0           0.818182            0.096436      0  \n",
       "1           0.818182            0.224555      0  \n",
       "2           0.777778            0.590838      0  \n",
       "3           0.555556            0.397426      0  \n",
       "4           0.666667            0.207626      0  \n",
       "...              ...                 ...    ...  \n",
       "2998        1.000000            0.285272      0  \n",
       "2999        1.000000            0.268711      0  \n",
       "3000        0.916667            0.263410      0  \n",
       "3001        0.916667            0.258249      0  \n",
       "3002        1.000000            0.523727      1  \n",
       "\n",
       "[3003 rows x 11 columns]"
      ]
     },
     "execution_count": 130,
     "metadata": {},
     "output_type": "execute_result"
    }
   ],
   "source": [
    "clean_data = data.drop(columns_to_drop, axis = 1)\n",
    "clean_data"
   ]
  },
  {
   "cell_type": "code",
   "execution_count": 131,
   "id": "110418c6-d4bc-4f49-b87f-c0914ba0ddec",
   "metadata": {},
   "outputs": [],
   "source": [
    "X = clean_data.drop([\"File Name 1\", \"File Name 2\", \"label\"], axis = 1)\n",
    "y = clean_data[\"label\"]"
   ]
  },
  {
   "cell_type": "code",
   "execution_count": 132,
   "id": "3f4cb14a-bf15-4762-8092-2f6e8ea33fec",
   "metadata": {},
   "outputs": [],
   "source": [
    "over = SMOTE(sampling_strategy=0.07)\n",
    "under = RandomUnderSampler(sampling_strategy=0.35)"
   ]
  },
  {
   "cell_type": "code",
   "execution_count": 133,
   "id": "61a0d859-a95e-47f8-8e14-ebc690296618",
   "metadata": {},
   "outputs": [],
   "source": [
    "steps = [('o', over), ('u', under)]\n",
    "pipeline = Pipeline(steps=steps)"
   ]
  },
  {
   "cell_type": "code",
   "execution_count": 134,
   "id": "b16621dc-372f-4a3c-9459-1d2d77662bac",
   "metadata": {},
   "outputs": [],
   "source": [
    "X, y = pipeline.fit_resample(X, y)"
   ]
  },
  {
   "cell_type": "code",
   "execution_count": 135,
   "id": "35de7c81-4c39-420b-9804-732d8a4e1e07",
   "metadata": {},
   "outputs": [
    {
     "data": {
      "text/plain": [
       "label\n",
       "0    594\n",
       "1    208\n",
       "Name: count, dtype: int64"
      ]
     },
     "execution_count": 135,
     "metadata": {},
     "output_type": "execute_result"
    }
   ],
   "source": [
    "y.value_counts()"
   ]
  },
  {
   "cell_type": "code",
   "execution_count": 136,
   "id": "fbb36ea3-9ddf-46dd-bcdb-53887e757a59",
   "metadata": {},
   "outputs": [],
   "source": [
    "X_train, X_test, y_train, y_test = train_test_split(X, y, test_size=0.33, random_state=42)"
   ]
  },
  {
   "cell_type": "code",
   "execution_count": 137,
   "id": "d05c02ec-cca6-4ccc-bddd-d5b80578d4f9",
   "metadata": {},
   "outputs": [
    {
     "data": {
      "text/html": [
       "<style>#sk-container-id-3 {color: black;}#sk-container-id-3 pre{padding: 0;}#sk-container-id-3 div.sk-toggleable {background-color: white;}#sk-container-id-3 label.sk-toggleable__label {cursor: pointer;display: block;width: 100%;margin-bottom: 0;padding: 0.3em;box-sizing: border-box;text-align: center;}#sk-container-id-3 label.sk-toggleable__label-arrow:before {content: \"▸\";float: left;margin-right: 0.25em;color: #696969;}#sk-container-id-3 label.sk-toggleable__label-arrow:hover:before {color: black;}#sk-container-id-3 div.sk-estimator:hover label.sk-toggleable__label-arrow:before {color: black;}#sk-container-id-3 div.sk-toggleable__content {max-height: 0;max-width: 0;overflow: hidden;text-align: left;background-color: #f0f8ff;}#sk-container-id-3 div.sk-toggleable__content pre {margin: 0.2em;color: black;border-radius: 0.25em;background-color: #f0f8ff;}#sk-container-id-3 input.sk-toggleable__control:checked~div.sk-toggleable__content {max-height: 200px;max-width: 100%;overflow: auto;}#sk-container-id-3 input.sk-toggleable__control:checked~label.sk-toggleable__label-arrow:before {content: \"▾\";}#sk-container-id-3 div.sk-estimator input.sk-toggleable__control:checked~label.sk-toggleable__label {background-color: #d4ebff;}#sk-container-id-3 div.sk-label input.sk-toggleable__control:checked~label.sk-toggleable__label {background-color: #d4ebff;}#sk-container-id-3 input.sk-hidden--visually {border: 0;clip: rect(1px 1px 1px 1px);clip: rect(1px, 1px, 1px, 1px);height: 1px;margin: -1px;overflow: hidden;padding: 0;position: absolute;width: 1px;}#sk-container-id-3 div.sk-estimator {font-family: monospace;background-color: #f0f8ff;border: 1px dotted black;border-radius: 0.25em;box-sizing: border-box;margin-bottom: 0.5em;}#sk-container-id-3 div.sk-estimator:hover {background-color: #d4ebff;}#sk-container-id-3 div.sk-parallel-item::after {content: \"\";width: 100%;border-bottom: 1px solid gray;flex-grow: 1;}#sk-container-id-3 div.sk-label:hover label.sk-toggleable__label {background-color: #d4ebff;}#sk-container-id-3 div.sk-serial::before {content: \"\";position: absolute;border-left: 1px solid gray;box-sizing: border-box;top: 0;bottom: 0;left: 50%;z-index: 0;}#sk-container-id-3 div.sk-serial {display: flex;flex-direction: column;align-items: center;background-color: white;padding-right: 0.2em;padding-left: 0.2em;position: relative;}#sk-container-id-3 div.sk-item {position: relative;z-index: 1;}#sk-container-id-3 div.sk-parallel {display: flex;align-items: stretch;justify-content: center;background-color: white;position: relative;}#sk-container-id-3 div.sk-item::before, #sk-container-id-3 div.sk-parallel-item::before {content: \"\";position: absolute;border-left: 1px solid gray;box-sizing: border-box;top: 0;bottom: 0;left: 50%;z-index: -1;}#sk-container-id-3 div.sk-parallel-item {display: flex;flex-direction: column;z-index: 1;position: relative;background-color: white;}#sk-container-id-3 div.sk-parallel-item:first-child::after {align-self: flex-end;width: 50%;}#sk-container-id-3 div.sk-parallel-item:last-child::after {align-self: flex-start;width: 50%;}#sk-container-id-3 div.sk-parallel-item:only-child::after {width: 0;}#sk-container-id-3 div.sk-dashed-wrapped {border: 1px dashed gray;margin: 0 0.4em 0.5em 0.4em;box-sizing: border-box;padding-bottom: 0.4em;background-color: white;}#sk-container-id-3 div.sk-label label {font-family: monospace;font-weight: bold;display: inline-block;line-height: 1.2em;}#sk-container-id-3 div.sk-label-container {text-align: center;}#sk-container-id-3 div.sk-container {/* jupyter's `normalize.less` sets `[hidden] { display: none; }` but bootstrap.min.css set `[hidden] { display: none !important; }` so we also need the `!important` here to be able to override the default hidden behavior on the sphinx rendered scikit-learn.org. See: https://github.com/scikit-learn/scikit-learn/issues/21755 */display: inline-block !important;position: relative;}#sk-container-id-3 div.sk-text-repr-fallback {display: none;}</style><div id=\"sk-container-id-3\" class=\"sk-top-container\"><div class=\"sk-text-repr-fallback\"><pre>RandomForestClassifier(max_depth=2, random_state=0)</pre><b>In a Jupyter environment, please rerun this cell to show the HTML representation or trust the notebook. <br />On GitHub, the HTML representation is unable to render, please try loading this page with nbviewer.org.</b></div><div class=\"sk-container\" hidden><div class=\"sk-item\"><div class=\"sk-estimator sk-toggleable\"><input class=\"sk-toggleable__control sk-hidden--visually\" id=\"sk-estimator-id-3\" type=\"checkbox\" checked><label for=\"sk-estimator-id-3\" class=\"sk-toggleable__label sk-toggleable__label-arrow\">RandomForestClassifier</label><div class=\"sk-toggleable__content\"><pre>RandomForestClassifier(max_depth=2, random_state=0)</pre></div></div></div></div></div>"
      ],
      "text/plain": [
       "RandomForestClassifier(max_depth=2, random_state=0)"
      ]
     },
     "execution_count": 137,
     "metadata": {},
     "output_type": "execute_result"
    }
   ],
   "source": [
    "random_forest = RandomForestClassifier(max_depth=2, random_state=0)\n",
    "random_forest.fit(X_train, y_train)"
   ]
  },
  {
   "cell_type": "code",
   "execution_count": 138,
   "id": "b435661a-974f-45e5-9537-5394c9d06b5b",
   "metadata": {},
   "outputs": [
    {
     "name": "stdout",
     "output_type": "stream",
     "text": [
      "Score:\n",
      "0.8981132075471698\n"
     ]
    }
   ],
   "source": [
    "print(\"Score:\")\n",
    "print(random_forest.score(X_test, y_test))"
   ]
  },
  {
   "cell_type": "code",
   "execution_count": 139,
   "id": "9f512931-bb20-42bb-9832-839bf3ee56ba",
   "metadata": {},
   "outputs": [],
   "source": [
    "y_pred = random_forest.predict(X_test)\n"
   ]
  },
  {
   "cell_type": "code",
   "execution_count": 140,
   "id": "fea5d9cf-dc08-48ae-ae41-7f7ab6214f7b",
   "metadata": {},
   "outputs": [
    {
     "data": {
      "text/plain": [
       "['./random_forest.joblib']"
      ]
     },
     "execution_count": 140,
     "metadata": {},
     "output_type": "execute_result"
    }
   ],
   "source": [
    "dump(random_forest, './random_forest.joblib')"
   ]
  },
  {
   "cell_type": "code",
   "execution_count": 141,
   "id": "9e3cd415-1273-48b4-bcbb-a31a838dd9e0",
   "metadata": {},
   "outputs": [
    {
     "data": {
      "text/plain": [
       "array([0, 0, 0, 0, 0, 1, 0, 0, 0, 0, 0, 1, 0, 1, 0, 0, 0, 0, 0, 0, 0, 0,\n",
       "       0, 1, 0, 0, 0, 0, 0, 0, 0, 0, 0, 0, 1, 0, 0, 0, 1, 0, 0, 0, 1, 0,\n",
       "       0, 0, 0, 1, 0, 0, 0, 0, 0, 0, 0, 1, 0, 0, 0, 0, 1, 1, 0, 0, 1, 0,\n",
       "       0, 0, 0, 0, 0, 1, 0, 1, 0, 0, 1, 1, 0, 0, 0, 0, 0, 0, 0, 0, 0, 0,\n",
       "       0, 0, 0, 0, 0, 0, 1, 0, 0, 0, 1, 1, 1, 0, 0, 0, 0, 1, 0, 0, 0, 0,\n",
       "       0, 1, 0, 0, 0, 0, 0, 0, 0, 0, 0, 0, 0, 0, 0, 1, 0, 1, 0, 0, 0, 0,\n",
       "       0, 0, 0, 0, 0, 0, 1, 0, 1, 0, 0, 0, 0, 0, 0, 0, 0, 0, 0, 1, 0, 0,\n",
       "       1, 0, 0, 0, 0, 1, 0, 0, 0, 0, 1, 0, 0, 0, 0, 0, 0, 0, 0, 0, 0, 0,\n",
       "       0, 1, 0, 0, 0, 0, 1, 0, 0, 0, 0, 0, 0, 0, 0, 1, 0, 0, 1, 1, 0, 0,\n",
       "       0, 0, 1, 0, 0, 0, 0, 0, 0, 0, 0, 0, 0, 0, 0, 0, 1, 0, 0, 0, 0, 0,\n",
       "       0, 0, 0, 0, 0, 0, 0, 0, 0, 1, 0, 0, 0, 0, 0, 1, 0, 0, 0, 0, 0, 0,\n",
       "       0, 0, 1, 0, 1, 1, 1, 0, 0, 0, 1, 1, 0, 0, 0, 0, 0, 0, 0, 0, 0, 0,\n",
       "       0])"
      ]
     },
     "execution_count": 141,
     "metadata": {},
     "output_type": "execute_result"
    }
   ],
   "source": [
    "y_pred"
   ]
  },
  {
   "cell_type": "code",
   "execution_count": 142,
   "id": "1a714e35-529b-41cb-b10e-a9948022accd",
   "metadata": {},
   "outputs": [
    {
     "data": {
      "text/plain": [
       "label\n",
       "0    203\n",
       "1     62\n",
       "Name: count, dtype: int64"
      ]
     },
     "execution_count": 142,
     "metadata": {},
     "output_type": "execute_result"
    }
   ],
   "source": [
    "y_test.value_counts()"
   ]
  },
  {
   "cell_type": "code",
   "execution_count": null,
   "id": "5e83c4ff-21d3-4a2d-9749-59f6504c5b2b",
   "metadata": {},
   "outputs": [],
   "source": []
  }
 ],
 "metadata": {
  "kernelspec": {
   "display_name": "Python 3 (ipykernel)",
   "language": "python",
   "name": "python3"
  },
  "language_info": {
   "codemirror_mode": {
    "name": "ipython",
    "version": 3
   },
   "file_extension": ".py",
   "mimetype": "text/x-python",
   "name": "python",
   "nbconvert_exporter": "python",
   "pygments_lexer": "ipython3",
   "version": "3.11.6"
  }
 },
 "nbformat": 4,
 "nbformat_minor": 5
}
