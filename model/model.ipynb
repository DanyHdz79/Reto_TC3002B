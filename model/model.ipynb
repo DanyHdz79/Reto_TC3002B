{
 "cells": [
  {
   "cell_type": "code",
   "execution_count": 5,
   "id": "e33f010f-1e7e-4379-92b3-6fc0ee7dff3c",
   "metadata": {},
   "outputs": [],
   "source": [
    "#!pip install imblearn\n",
    "#!pip install spacy\n",
    "#!python -m spacy download en_core_web_sm"
   ]
  },
  {
   "cell_type": "code",
   "execution_count": 6,
   "id": "72a568b4-61c4-41f7-a367-e14032df0985",
   "metadata": {},
   "outputs": [
    {
     "name": "stderr",
     "output_type": "stream",
     "text": [
      "2023-11-17 17:05:25.495692: I tensorflow/tsl/cuda/cudart_stub.cc:28] Could not find cuda drivers on your machine, GPU will not be used.\n",
      "2023-11-17 17:05:26.038934: E tensorflow/compiler/xla/stream_executor/cuda/cuda_dnn.cc:9342] Unable to register cuDNN factory: Attempting to register factory for plugin cuDNN when one has already been registered\n",
      "2023-11-17 17:05:26.038978: E tensorflow/compiler/xla/stream_executor/cuda/cuda_fft.cc:609] Unable to register cuFFT factory: Attempting to register factory for plugin cuFFT when one has already been registered\n",
      "2023-11-17 17:05:26.042100: E tensorflow/compiler/xla/stream_executor/cuda/cuda_blas.cc:1518] Unable to register cuBLAS factory: Attempting to register factory for plugin cuBLAS when one has already been registered\n",
      "2023-11-17 17:05:26.385858: I tensorflow/tsl/cuda/cudart_stub.cc:28] Could not find cuda drivers on your machine, GPU will not be used.\n",
      "2023-11-17 17:05:26.388419: I tensorflow/core/platform/cpu_feature_guard.cc:182] This TensorFlow binary is optimized to use available CPU instructions in performance-critical operations.\n",
      "To enable the following instructions: AVX2 FMA, in other operations, rebuild TensorFlow with the appropriate compiler flags.\n",
      "2023-11-17 17:05:28.483433: W tensorflow/compiler/tf2tensorrt/utils/py_utils.cc:38] TF-TRT Warning: Could not find TensorRT\n"
     ]
    }
   ],
   "source": [
    "import pandas as pd\n",
    "from sklearn.ensemble import RandomForestClassifier\n",
    "from sklearn.model_selection import train_test_split\n",
    "from joblib import dump, load\n",
    "from imblearn.over_sampling import SMOTE\n",
    "from imblearn.under_sampling import RandomUnderSampler\n",
    "from imblearn.pipeline import Pipeline\n",
    "import tensorflow as tf\n",
    "from tensorflow.keras import layers\n",
    "import keras\n",
    "import matplotlib.pyplot as plt\n",
    "import seaborn as sns"
   ]
  },
  {
   "cell_type": "code",
   "execution_count": 30,
   "id": "a45c1a87-079c-4912-8597-dc91bcedd635",
   "metadata": {},
   "outputs": [
    {
     "data": {
      "text/html": [
       "<div>\n",
       "<style scoped>\n",
       "    .dataframe tbody tr th:only-of-type {\n",
       "        vertical-align: middle;\n",
       "    }\n",
       "\n",
       "    .dataframe tbody tr th {\n",
       "        vertical-align: top;\n",
       "    }\n",
       "\n",
       "    .dataframe thead th {\n",
       "        text-align: right;\n",
       "    }\n",
       "</style>\n",
       "<table border=\"1\" class=\"dataframe\">\n",
       "  <thead>\n",
       "    <tr style=\"text-align: right;\">\n",
       "      <th></th>\n",
       "      <th>File Name 1</th>\n",
       "      <th>File Name 2</th>\n",
       "      <th>Per_Functions</th>\n",
       "      <th>Per_Loops</th>\n",
       "      <th>Per_Conditionals</th>\n",
       "      <th>Per_Arithmetic_Operations</th>\n",
       "      <th>Per_int_Declarations</th>\n",
       "      <th>Per_float_Declarations</th>\n",
       "      <th>Per_char_Declarations</th>\n",
       "      <th>Jaccard_Metric</th>\n",
       "      <th>Euclidean_Distance</th>\n",
       "      <th>label</th>\n",
       "    </tr>\n",
       "  </thead>\n",
       "  <tbody>\n",
       "    <tr>\n",
       "      <th>0</th>\n",
       "      <td>000.c</td>\n",
       "      <td>001.c</td>\n",
       "      <td>0.518519</td>\n",
       "      <td>0.166667</td>\n",
       "      <td>0.250000</td>\n",
       "      <td>0.000000</td>\n",
       "      <td>0.166667</td>\n",
       "      <td>0</td>\n",
       "      <td>0.018182</td>\n",
       "      <td>0.818182</td>\n",
       "      <td>0.000289</td>\n",
       "      <td>0</td>\n",
       "    </tr>\n",
       "    <tr>\n",
       "      <th>1</th>\n",
       "      <td>000.c</td>\n",
       "      <td>002.c</td>\n",
       "      <td>0.928571</td>\n",
       "      <td>0.333333</td>\n",
       "      <td>0.500000</td>\n",
       "      <td>0.000000</td>\n",
       "      <td>0.250000</td>\n",
       "      <td>0</td>\n",
       "      <td>0.250000</td>\n",
       "      <td>0.818182</td>\n",
       "      <td>0.008141</td>\n",
       "      <td>0</td>\n",
       "    </tr>\n",
       "    <tr>\n",
       "      <th>2</th>\n",
       "      <td>000.c</td>\n",
       "      <td>003.c</td>\n",
       "      <td>0.875000</td>\n",
       "      <td>1.000000</td>\n",
       "      <td>1.000000</td>\n",
       "      <td>0.000000</td>\n",
       "      <td>0.500000</td>\n",
       "      <td>0</td>\n",
       "      <td>0.000000</td>\n",
       "      <td>0.777778</td>\n",
       "      <td>0.186989</td>\n",
       "      <td>0</td>\n",
       "    </tr>\n",
       "    <tr>\n",
       "      <th>3</th>\n",
       "      <td>000.c</td>\n",
       "      <td>004.c</td>\n",
       "      <td>0.785714</td>\n",
       "      <td>0.000000</td>\n",
       "      <td>0.500000</td>\n",
       "      <td>0.000000</td>\n",
       "      <td>0.000000</td>\n",
       "      <td>0</td>\n",
       "      <td>0.000000</td>\n",
       "      <td>0.555556</td>\n",
       "      <td>0.107115</td>\n",
       "      <td>0</td>\n",
       "    </tr>\n",
       "    <tr>\n",
       "      <th>4</th>\n",
       "      <td>000.c</td>\n",
       "      <td>005.c</td>\n",
       "      <td>0.714286</td>\n",
       "      <td>0.333333</td>\n",
       "      <td>0.500000</td>\n",
       "      <td>0.000000</td>\n",
       "      <td>0.200000</td>\n",
       "      <td>0</td>\n",
       "      <td>0.142857</td>\n",
       "      <td>0.666667</td>\n",
       "      <td>0.012363</td>\n",
       "      <td>0</td>\n",
       "    </tr>\n",
       "    <tr>\n",
       "      <th>...</th>\n",
       "      <td>...</td>\n",
       "      <td>...</td>\n",
       "      <td>...</td>\n",
       "      <td>...</td>\n",
       "      <td>...</td>\n",
       "      <td>...</td>\n",
       "      <td>...</td>\n",
       "      <td>...</td>\n",
       "      <td>...</td>\n",
       "      <td>...</td>\n",
       "      <td>...</td>\n",
       "      <td>...</td>\n",
       "    </tr>\n",
       "    <tr>\n",
       "      <th>2998</th>\n",
       "      <td>074.c</td>\n",
       "      <td>076.c</td>\n",
       "      <td>0.262500</td>\n",
       "      <td>0.333333</td>\n",
       "      <td>0.225806</td>\n",
       "      <td>0.107143</td>\n",
       "      <td>0.333333</td>\n",
       "      <td>0</td>\n",
       "      <td>0.224138</td>\n",
       "      <td>1.000000</td>\n",
       "      <td>0.014874</td>\n",
       "      <td>0</td>\n",
       "    </tr>\n",
       "    <tr>\n",
       "      <th>2999</th>\n",
       "      <td>074.c</td>\n",
       "      <td>077.c</td>\n",
       "      <td>0.412500</td>\n",
       "      <td>0.222222</td>\n",
       "      <td>0.548387</td>\n",
       "      <td>0.285714</td>\n",
       "      <td>0.227273</td>\n",
       "      <td>0</td>\n",
       "      <td>0.149425</td>\n",
       "      <td>1.000000</td>\n",
       "      <td>0.016872</td>\n",
       "      <td>0</td>\n",
       "    </tr>\n",
       "    <tr>\n",
       "      <th>3000</th>\n",
       "      <td>075.c</td>\n",
       "      <td>076.c</td>\n",
       "      <td>0.552632</td>\n",
       "      <td>0.166667</td>\n",
       "      <td>0.500000</td>\n",
       "      <td>0.000000</td>\n",
       "      <td>0.909091</td>\n",
       "      <td>0</td>\n",
       "      <td>0.155172</td>\n",
       "      <td>0.916667</td>\n",
       "      <td>0.007293</td>\n",
       "      <td>0</td>\n",
       "    </tr>\n",
       "    <tr>\n",
       "      <th>3001</th>\n",
       "      <td>075.c</td>\n",
       "      <td>077.c</td>\n",
       "      <td>0.868421</td>\n",
       "      <td>0.111111</td>\n",
       "      <td>0.823529</td>\n",
       "      <td>0.000000</td>\n",
       "      <td>0.083333</td>\n",
       "      <td>0</td>\n",
       "      <td>0.103448</td>\n",
       "      <td>0.916667</td>\n",
       "      <td>0.009313</td>\n",
       "      <td>0</td>\n",
       "    </tr>\n",
       "    <tr>\n",
       "      <th>3002</th>\n",
       "      <td>076.c</td>\n",
       "      <td>077.c</td>\n",
       "      <td>0.636364</td>\n",
       "      <td>0.666667</td>\n",
       "      <td>0.411765</td>\n",
       "      <td>0.375000</td>\n",
       "      <td>0.075758</td>\n",
       "      <td>0</td>\n",
       "      <td>0.666667</td>\n",
       "      <td>1.000000</td>\n",
       "      <td>0.147337</td>\n",
       "      <td>1</td>\n",
       "    </tr>\n",
       "  </tbody>\n",
       "</table>\n",
       "<p>3003 rows × 12 columns</p>\n",
       "</div>"
      ],
      "text/plain": [
       "     File Name 1 File Name 2  Per_Functions  Per_Loops  Per_Conditionals  \\\n",
       "0          000.c       001.c       0.518519   0.166667          0.250000   \n",
       "1          000.c       002.c       0.928571   0.333333          0.500000   \n",
       "2          000.c       003.c       0.875000   1.000000          1.000000   \n",
       "3          000.c       004.c       0.785714   0.000000          0.500000   \n",
       "4          000.c       005.c       0.714286   0.333333          0.500000   \n",
       "...          ...         ...            ...        ...               ...   \n",
       "2998       074.c       076.c       0.262500   0.333333          0.225806   \n",
       "2999       074.c       077.c       0.412500   0.222222          0.548387   \n",
       "3000       075.c       076.c       0.552632   0.166667          0.500000   \n",
       "3001       075.c       077.c       0.868421   0.111111          0.823529   \n",
       "3002       076.c       077.c       0.636364   0.666667          0.411765   \n",
       "\n",
       "      Per_Arithmetic_Operations  Per_int_Declarations  Per_float_Declarations  \\\n",
       "0                      0.000000              0.166667                       0   \n",
       "1                      0.000000              0.250000                       0   \n",
       "2                      0.000000              0.500000                       0   \n",
       "3                      0.000000              0.000000                       0   \n",
       "4                      0.000000              0.200000                       0   \n",
       "...                         ...                   ...                     ...   \n",
       "2998                   0.107143              0.333333                       0   \n",
       "2999                   0.285714              0.227273                       0   \n",
       "3000                   0.000000              0.909091                       0   \n",
       "3001                   0.000000              0.083333                       0   \n",
       "3002                   0.375000              0.075758                       0   \n",
       "\n",
       "      Per_char_Declarations  Jaccard_Metric  Euclidean_Distance  label  \n",
       "0                  0.018182        0.818182            0.000289      0  \n",
       "1                  0.250000        0.818182            0.008141      0  \n",
       "2                  0.000000        0.777778            0.186989      0  \n",
       "3                  0.000000        0.555556            0.107115      0  \n",
       "4                  0.142857        0.666667            0.012363      0  \n",
       "...                     ...             ...                 ...    ...  \n",
       "2998               0.224138        1.000000            0.014874      0  \n",
       "2999               0.149425        1.000000            0.016872      0  \n",
       "3000               0.155172        0.916667            0.007293      0  \n",
       "3001               0.103448        0.916667            0.009313      0  \n",
       "3002               0.666667        1.000000            0.147337      1  \n",
       "\n",
       "[3003 rows x 12 columns]"
      ]
     },
     "execution_count": 30,
     "metadata": {},
     "output_type": "execute_result"
    }
   ],
   "source": [
    "data = pd.read_excel(\"./code_plagiarism.xls\")\n",
    "data"
   ]
  },
  {
   "cell_type": "code",
   "execution_count": 31,
   "id": "8aaef007-bd58-4916-93a0-e18a0ef80731",
   "metadata": {},
   "outputs": [
    {
     "data": {
      "text/plain": [
       "File Name 1                  100.000000\n",
       "File Name 2                  100.000000\n",
       "Per_Functions                100.000000\n",
       "Per_Loops                     73.626374\n",
       "Per_Conditionals              87.512488\n",
       "Per_Arithmetic_Operations     40.792541\n",
       "Per_int_Declarations          67.132867\n",
       "Per_float_Declarations         0.000000\n",
       "Per_char_Declarations         53.146853\n",
       "Jaccard_Metric               100.000000\n",
       "Euclidean_Distance           100.000000\n",
       "label                          0.865801\n",
       "dtype: float64"
      ]
     },
     "execution_count": 31,
     "metadata": {},
     "output_type": "execute_result"
    }
   ],
   "source": [
    "non_zero_cells_per_column = data.astype(bool).sum(axis=0)\n",
    "percentages_non_zero_cells_per_column = (non_zero_cells_per_column * 100) / (data.shape[0])\n",
    "percentages_non_zero_cells_per_column"
   ]
  },
  {
   "cell_type": "code",
   "execution_count": 32,
   "id": "66efb11c-6100-497d-81a2-bbf43db6b574",
   "metadata": {},
   "outputs": [
    {
     "data": {
      "text/plain": [
       "Index(['Per_float_Declarations'], dtype='object')"
      ]
     },
     "execution_count": 32,
     "metadata": {},
     "output_type": "execute_result"
    }
   ],
   "source": [
    "# Obtaining the columns that have more than 90% of null values\n",
    "columns_to_drop = percentages_non_zero_cells_per_column < 10\n",
    "columns_to_drop = columns_to_drop[columns_to_drop]\n",
    "columns_to_drop = columns_to_drop.index\n",
    "columns_to_drop = columns_to_drop.drop(\"label\")\n",
    "columns_to_drop"
   ]
  },
  {
   "cell_type": "code",
   "execution_count": 33,
   "id": "cd5ce558-bbf2-4ff1-9a54-2c5e2a78096a",
   "metadata": {},
   "outputs": [
    {
     "data": {
      "text/html": [
       "<div>\n",
       "<style scoped>\n",
       "    .dataframe tbody tr th:only-of-type {\n",
       "        vertical-align: middle;\n",
       "    }\n",
       "\n",
       "    .dataframe tbody tr th {\n",
       "        vertical-align: top;\n",
       "    }\n",
       "\n",
       "    .dataframe thead th {\n",
       "        text-align: right;\n",
       "    }\n",
       "</style>\n",
       "<table border=\"1\" class=\"dataframe\">\n",
       "  <thead>\n",
       "    <tr style=\"text-align: right;\">\n",
       "      <th></th>\n",
       "      <th>File Name 1</th>\n",
       "      <th>File Name 2</th>\n",
       "      <th>Per_Functions</th>\n",
       "      <th>Per_Loops</th>\n",
       "      <th>Per_Conditionals</th>\n",
       "      <th>Per_Arithmetic_Operations</th>\n",
       "      <th>Per_int_Declarations</th>\n",
       "      <th>Per_char_Declarations</th>\n",
       "      <th>Jaccard_Metric</th>\n",
       "      <th>Euclidean_Distance</th>\n",
       "      <th>label</th>\n",
       "    </tr>\n",
       "  </thead>\n",
       "  <tbody>\n",
       "    <tr>\n",
       "      <th>0</th>\n",
       "      <td>000.c</td>\n",
       "      <td>001.c</td>\n",
       "      <td>0.518519</td>\n",
       "      <td>0.166667</td>\n",
       "      <td>0.250000</td>\n",
       "      <td>0.000000</td>\n",
       "      <td>0.166667</td>\n",
       "      <td>0.018182</td>\n",
       "      <td>0.818182</td>\n",
       "      <td>0.000289</td>\n",
       "      <td>0</td>\n",
       "    </tr>\n",
       "    <tr>\n",
       "      <th>1</th>\n",
       "      <td>000.c</td>\n",
       "      <td>002.c</td>\n",
       "      <td>0.928571</td>\n",
       "      <td>0.333333</td>\n",
       "      <td>0.500000</td>\n",
       "      <td>0.000000</td>\n",
       "      <td>0.250000</td>\n",
       "      <td>0.250000</td>\n",
       "      <td>0.818182</td>\n",
       "      <td>0.008141</td>\n",
       "      <td>0</td>\n",
       "    </tr>\n",
       "    <tr>\n",
       "      <th>2</th>\n",
       "      <td>000.c</td>\n",
       "      <td>003.c</td>\n",
       "      <td>0.875000</td>\n",
       "      <td>1.000000</td>\n",
       "      <td>1.000000</td>\n",
       "      <td>0.000000</td>\n",
       "      <td>0.500000</td>\n",
       "      <td>0.000000</td>\n",
       "      <td>0.777778</td>\n",
       "      <td>0.186989</td>\n",
       "      <td>0</td>\n",
       "    </tr>\n",
       "    <tr>\n",
       "      <th>3</th>\n",
       "      <td>000.c</td>\n",
       "      <td>004.c</td>\n",
       "      <td>0.785714</td>\n",
       "      <td>0.000000</td>\n",
       "      <td>0.500000</td>\n",
       "      <td>0.000000</td>\n",
       "      <td>0.000000</td>\n",
       "      <td>0.000000</td>\n",
       "      <td>0.555556</td>\n",
       "      <td>0.107115</td>\n",
       "      <td>0</td>\n",
       "    </tr>\n",
       "    <tr>\n",
       "      <th>4</th>\n",
       "      <td>000.c</td>\n",
       "      <td>005.c</td>\n",
       "      <td>0.714286</td>\n",
       "      <td>0.333333</td>\n",
       "      <td>0.500000</td>\n",
       "      <td>0.000000</td>\n",
       "      <td>0.200000</td>\n",
       "      <td>0.142857</td>\n",
       "      <td>0.666667</td>\n",
       "      <td>0.012363</td>\n",
       "      <td>0</td>\n",
       "    </tr>\n",
       "    <tr>\n",
       "      <th>...</th>\n",
       "      <td>...</td>\n",
       "      <td>...</td>\n",
       "      <td>...</td>\n",
       "      <td>...</td>\n",
       "      <td>...</td>\n",
       "      <td>...</td>\n",
       "      <td>...</td>\n",
       "      <td>...</td>\n",
       "      <td>...</td>\n",
       "      <td>...</td>\n",
       "      <td>...</td>\n",
       "    </tr>\n",
       "    <tr>\n",
       "      <th>2998</th>\n",
       "      <td>074.c</td>\n",
       "      <td>076.c</td>\n",
       "      <td>0.262500</td>\n",
       "      <td>0.333333</td>\n",
       "      <td>0.225806</td>\n",
       "      <td>0.107143</td>\n",
       "      <td>0.333333</td>\n",
       "      <td>0.224138</td>\n",
       "      <td>1.000000</td>\n",
       "      <td>0.014874</td>\n",
       "      <td>0</td>\n",
       "    </tr>\n",
       "    <tr>\n",
       "      <th>2999</th>\n",
       "      <td>074.c</td>\n",
       "      <td>077.c</td>\n",
       "      <td>0.412500</td>\n",
       "      <td>0.222222</td>\n",
       "      <td>0.548387</td>\n",
       "      <td>0.285714</td>\n",
       "      <td>0.227273</td>\n",
       "      <td>0.149425</td>\n",
       "      <td>1.000000</td>\n",
       "      <td>0.016872</td>\n",
       "      <td>0</td>\n",
       "    </tr>\n",
       "    <tr>\n",
       "      <th>3000</th>\n",
       "      <td>075.c</td>\n",
       "      <td>076.c</td>\n",
       "      <td>0.552632</td>\n",
       "      <td>0.166667</td>\n",
       "      <td>0.500000</td>\n",
       "      <td>0.000000</td>\n",
       "      <td>0.909091</td>\n",
       "      <td>0.155172</td>\n",
       "      <td>0.916667</td>\n",
       "      <td>0.007293</td>\n",
       "      <td>0</td>\n",
       "    </tr>\n",
       "    <tr>\n",
       "      <th>3001</th>\n",
       "      <td>075.c</td>\n",
       "      <td>077.c</td>\n",
       "      <td>0.868421</td>\n",
       "      <td>0.111111</td>\n",
       "      <td>0.823529</td>\n",
       "      <td>0.000000</td>\n",
       "      <td>0.083333</td>\n",
       "      <td>0.103448</td>\n",
       "      <td>0.916667</td>\n",
       "      <td>0.009313</td>\n",
       "      <td>0</td>\n",
       "    </tr>\n",
       "    <tr>\n",
       "      <th>3002</th>\n",
       "      <td>076.c</td>\n",
       "      <td>077.c</td>\n",
       "      <td>0.636364</td>\n",
       "      <td>0.666667</td>\n",
       "      <td>0.411765</td>\n",
       "      <td>0.375000</td>\n",
       "      <td>0.075758</td>\n",
       "      <td>0.666667</td>\n",
       "      <td>1.000000</td>\n",
       "      <td>0.147337</td>\n",
       "      <td>1</td>\n",
       "    </tr>\n",
       "  </tbody>\n",
       "</table>\n",
       "<p>3003 rows × 11 columns</p>\n",
       "</div>"
      ],
      "text/plain": [
       "     File Name 1 File Name 2  Per_Functions  Per_Loops  Per_Conditionals  \\\n",
       "0          000.c       001.c       0.518519   0.166667          0.250000   \n",
       "1          000.c       002.c       0.928571   0.333333          0.500000   \n",
       "2          000.c       003.c       0.875000   1.000000          1.000000   \n",
       "3          000.c       004.c       0.785714   0.000000          0.500000   \n",
       "4          000.c       005.c       0.714286   0.333333          0.500000   \n",
       "...          ...         ...            ...        ...               ...   \n",
       "2998       074.c       076.c       0.262500   0.333333          0.225806   \n",
       "2999       074.c       077.c       0.412500   0.222222          0.548387   \n",
       "3000       075.c       076.c       0.552632   0.166667          0.500000   \n",
       "3001       075.c       077.c       0.868421   0.111111          0.823529   \n",
       "3002       076.c       077.c       0.636364   0.666667          0.411765   \n",
       "\n",
       "      Per_Arithmetic_Operations  Per_int_Declarations  Per_char_Declarations  \\\n",
       "0                      0.000000              0.166667               0.018182   \n",
       "1                      0.000000              0.250000               0.250000   \n",
       "2                      0.000000              0.500000               0.000000   \n",
       "3                      0.000000              0.000000               0.000000   \n",
       "4                      0.000000              0.200000               0.142857   \n",
       "...                         ...                   ...                    ...   \n",
       "2998                   0.107143              0.333333               0.224138   \n",
       "2999                   0.285714              0.227273               0.149425   \n",
       "3000                   0.000000              0.909091               0.155172   \n",
       "3001                   0.000000              0.083333               0.103448   \n",
       "3002                   0.375000              0.075758               0.666667   \n",
       "\n",
       "      Jaccard_Metric  Euclidean_Distance  label  \n",
       "0           0.818182            0.000289      0  \n",
       "1           0.818182            0.008141      0  \n",
       "2           0.777778            0.186989      0  \n",
       "3           0.555556            0.107115      0  \n",
       "4           0.666667            0.012363      0  \n",
       "...              ...                 ...    ...  \n",
       "2998        1.000000            0.014874      0  \n",
       "2999        1.000000            0.016872      0  \n",
       "3000        0.916667            0.007293      0  \n",
       "3001        0.916667            0.009313      0  \n",
       "3002        1.000000            0.147337      1  \n",
       "\n",
       "[3003 rows x 11 columns]"
      ]
     },
     "execution_count": 33,
     "metadata": {},
     "output_type": "execute_result"
    }
   ],
   "source": [
    "clean_data = data.drop(columns_to_drop, axis = 1)\n",
    "clean_data"
   ]
  },
  {
   "cell_type": "code",
   "execution_count": 63,
   "id": "110418c6-d4bc-4f49-b87f-c0914ba0ddec",
   "metadata": {},
   "outputs": [],
   "source": [
    "X = clean_data.drop([\"File Name 1\", \"File Name 2\", \"label\"], axis = 1)\n",
    "y = clean_data[\"label\"]"
   ]
  },
  {
   "cell_type": "code",
   "execution_count": 64,
   "id": "3f4cb14a-bf15-4762-8092-2f6e8ea33fec",
   "metadata": {},
   "outputs": [],
   "source": [
    "over = SMOTE(sampling_strategy=0.07)\n",
    "under = RandomUnderSampler(sampling_strategy=0.35)"
   ]
  },
  {
   "cell_type": "code",
   "execution_count": 65,
   "id": "61a0d859-a95e-47f8-8e14-ebc690296618",
   "metadata": {},
   "outputs": [],
   "source": [
    "steps = [('o', over), ('u', under)]\n",
    "pipeline = Pipeline(steps=steps)"
   ]
  },
  {
   "cell_type": "code",
   "execution_count": 66,
   "id": "b16621dc-372f-4a3c-9459-1d2d77662bac",
   "metadata": {},
   "outputs": [],
   "source": [
    "X, y = pipeline.fit_resample(X, y)"
   ]
  },
  {
   "cell_type": "code",
   "execution_count": 67,
   "id": "35de7c81-4c39-420b-9804-732d8a4e1e07",
   "metadata": {},
   "outputs": [
    {
     "data": {
      "text/plain": [
       "label\n",
       "0    594\n",
       "1    208\n",
       "Name: count, dtype: int64"
      ]
     },
     "execution_count": 67,
     "metadata": {},
     "output_type": "execute_result"
    }
   ],
   "source": [
    "y.value_counts()"
   ]
  },
  {
   "cell_type": "code",
   "execution_count": 68,
   "id": "fbb36ea3-9ddf-46dd-bcdb-53887e757a59",
   "metadata": {},
   "outputs": [],
   "source": [
    "X_train, X_test, y_train, y_test = train_test_split(X, y, test_size=0.33, random_state=42)"
   ]
  },
  {
   "cell_type": "code",
   "execution_count": 69,
   "id": "d05c02ec-cca6-4ccc-bddd-d5b80578d4f9",
   "metadata": {},
   "outputs": [
    {
     "data": {
      "text/html": [
       "<style>#sk-container-id-1 {color: black;}#sk-container-id-1 pre{padding: 0;}#sk-container-id-1 div.sk-toggleable {background-color: white;}#sk-container-id-1 label.sk-toggleable__label {cursor: pointer;display: block;width: 100%;margin-bottom: 0;padding: 0.3em;box-sizing: border-box;text-align: center;}#sk-container-id-1 label.sk-toggleable__label-arrow:before {content: \"▸\";float: left;margin-right: 0.25em;color: #696969;}#sk-container-id-1 label.sk-toggleable__label-arrow:hover:before {color: black;}#sk-container-id-1 div.sk-estimator:hover label.sk-toggleable__label-arrow:before {color: black;}#sk-container-id-1 div.sk-toggleable__content {max-height: 0;max-width: 0;overflow: hidden;text-align: left;background-color: #f0f8ff;}#sk-container-id-1 div.sk-toggleable__content pre {margin: 0.2em;color: black;border-radius: 0.25em;background-color: #f0f8ff;}#sk-container-id-1 input.sk-toggleable__control:checked~div.sk-toggleable__content {max-height: 200px;max-width: 100%;overflow: auto;}#sk-container-id-1 input.sk-toggleable__control:checked~label.sk-toggleable__label-arrow:before {content: \"▾\";}#sk-container-id-1 div.sk-estimator input.sk-toggleable__control:checked~label.sk-toggleable__label {background-color: #d4ebff;}#sk-container-id-1 div.sk-label input.sk-toggleable__control:checked~label.sk-toggleable__label {background-color: #d4ebff;}#sk-container-id-1 input.sk-hidden--visually {border: 0;clip: rect(1px 1px 1px 1px);clip: rect(1px, 1px, 1px, 1px);height: 1px;margin: -1px;overflow: hidden;padding: 0;position: absolute;width: 1px;}#sk-container-id-1 div.sk-estimator {font-family: monospace;background-color: #f0f8ff;border: 1px dotted black;border-radius: 0.25em;box-sizing: border-box;margin-bottom: 0.5em;}#sk-container-id-1 div.sk-estimator:hover {background-color: #d4ebff;}#sk-container-id-1 div.sk-parallel-item::after {content: \"\";width: 100%;border-bottom: 1px solid gray;flex-grow: 1;}#sk-container-id-1 div.sk-label:hover label.sk-toggleable__label {background-color: #d4ebff;}#sk-container-id-1 div.sk-serial::before {content: \"\";position: absolute;border-left: 1px solid gray;box-sizing: border-box;top: 0;bottom: 0;left: 50%;z-index: 0;}#sk-container-id-1 div.sk-serial {display: flex;flex-direction: column;align-items: center;background-color: white;padding-right: 0.2em;padding-left: 0.2em;position: relative;}#sk-container-id-1 div.sk-item {position: relative;z-index: 1;}#sk-container-id-1 div.sk-parallel {display: flex;align-items: stretch;justify-content: center;background-color: white;position: relative;}#sk-container-id-1 div.sk-item::before, #sk-container-id-1 div.sk-parallel-item::before {content: \"\";position: absolute;border-left: 1px solid gray;box-sizing: border-box;top: 0;bottom: 0;left: 50%;z-index: -1;}#sk-container-id-1 div.sk-parallel-item {display: flex;flex-direction: column;z-index: 1;position: relative;background-color: white;}#sk-container-id-1 div.sk-parallel-item:first-child::after {align-self: flex-end;width: 50%;}#sk-container-id-1 div.sk-parallel-item:last-child::after {align-self: flex-start;width: 50%;}#sk-container-id-1 div.sk-parallel-item:only-child::after {width: 0;}#sk-container-id-1 div.sk-dashed-wrapped {border: 1px dashed gray;margin: 0 0.4em 0.5em 0.4em;box-sizing: border-box;padding-bottom: 0.4em;background-color: white;}#sk-container-id-1 div.sk-label label {font-family: monospace;font-weight: bold;display: inline-block;line-height: 1.2em;}#sk-container-id-1 div.sk-label-container {text-align: center;}#sk-container-id-1 div.sk-container {/* jupyter's `normalize.less` sets `[hidden] { display: none; }` but bootstrap.min.css set `[hidden] { display: none !important; }` so we also need the `!important` here to be able to override the default hidden behavior on the sphinx rendered scikit-learn.org. See: https://github.com/scikit-learn/scikit-learn/issues/21755 */display: inline-block !important;position: relative;}#sk-container-id-1 div.sk-text-repr-fallback {display: none;}</style><div id=\"sk-container-id-1\" class=\"sk-top-container\"><div class=\"sk-text-repr-fallback\"><pre>RandomForestClassifier(max_depth=2, random_state=0)</pre><b>In a Jupyter environment, please rerun this cell to show the HTML representation or trust the notebook. <br />On GitHub, the HTML representation is unable to render, please try loading this page with nbviewer.org.</b></div><div class=\"sk-container\" hidden><div class=\"sk-item\"><div class=\"sk-estimator sk-toggleable\"><input class=\"sk-toggleable__control sk-hidden--visually\" id=\"sk-estimator-id-1\" type=\"checkbox\" checked><label for=\"sk-estimator-id-1\" class=\"sk-toggleable__label sk-toggleable__label-arrow\">RandomForestClassifier</label><div class=\"sk-toggleable__content\"><pre>RandomForestClassifier(max_depth=2, random_state=0)</pre></div></div></div></div></div>"
      ],
      "text/plain": [
       "RandomForestClassifier(max_depth=2, random_state=0)"
      ]
     },
     "execution_count": 69,
     "metadata": {},
     "output_type": "execute_result"
    }
   ],
   "source": [
    "random_forest = RandomForestClassifier(max_depth=2, random_state=0)\n",
    "random_forest.fit(X_train, y_train)"
   ]
  },
  {
   "cell_type": "code",
   "execution_count": 70,
   "id": "b435661a-974f-45e5-9537-5394c9d06b5b",
   "metadata": {},
   "outputs": [
    {
     "name": "stdout",
     "output_type": "stream",
     "text": [
      "Score:\n",
      "0.8981132075471698\n"
     ]
    }
   ],
   "source": [
    "print(\"Score:\")\n",
    "print(random_forest.score(X_test, y_test))"
   ]
  },
  {
   "cell_type": "code",
   "execution_count": 71,
   "id": "9f512931-bb20-42bb-9832-839bf3ee56ba",
   "metadata": {},
   "outputs": [],
   "source": [
    "y_pred = random_forest.predict(X_test)\n"
   ]
  },
  {
   "cell_type": "code",
   "execution_count": 72,
   "id": "fea5d9cf-dc08-48ae-ae41-7f7ab6214f7b",
   "metadata": {},
   "outputs": [
    {
     "data": {
      "text/plain": [
       "['./random_forest.joblib']"
      ]
     },
     "execution_count": 72,
     "metadata": {},
     "output_type": "execute_result"
    }
   ],
   "source": [
    "dump(random_forest, './random_forest.joblib')"
   ]
  },
  {
   "cell_type": "code",
   "execution_count": 73,
   "id": "9e3cd415-1273-48b4-bcbb-a31a838dd9e0",
   "metadata": {},
   "outputs": [
    {
     "data": {
      "text/plain": [
       "array([0, 0, 0, 0, 0, 0, 0, 0, 0, 0, 0, 1, 0, 0, 0, 0, 0, 0, 0, 0, 0, 0,\n",
       "       0, 0, 0, 0, 0, 0, 0, 0, 0, 0, 0, 0, 0, 0, 0, 0, 0, 1, 0, 0, 1, 0,\n",
       "       0, 0, 0, 1, 0, 0, 0, 0, 0, 1, 0, 1, 0, 0, 0, 0, 0, 1, 0, 0, 1, 0,\n",
       "       0, 0, 0, 0, 0, 0, 0, 0, 0, 0, 1, 1, 0, 1, 0, 0, 0, 1, 0, 0, 0, 0,\n",
       "       0, 1, 0, 0, 0, 0, 1, 0, 0, 0, 1, 0, 0, 0, 1, 0, 1, 0, 0, 0, 0, 0,\n",
       "       0, 1, 0, 0, 0, 0, 0, 0, 0, 0, 0, 0, 0, 0, 0, 0, 0, 1, 0, 0, 0, 0,\n",
       "       1, 0, 0, 0, 1, 0, 0, 0, 0, 1, 0, 0, 0, 0, 0, 1, 0, 1, 0, 1, 0, 0,\n",
       "       1, 0, 0, 0, 0, 0, 0, 0, 0, 0, 0, 0, 1, 0, 0, 0, 0, 0, 0, 1, 0, 0,\n",
       "       0, 1, 0, 0, 0, 0, 1, 0, 0, 0, 0, 0, 0, 0, 0, 0, 0, 0, 0, 0, 0, 0,\n",
       "       0, 0, 0, 0, 0, 0, 0, 0, 0, 0, 0, 0, 0, 0, 0, 0, 1, 0, 0, 1, 0, 0,\n",
       "       0, 0, 0, 0, 0, 0, 0, 0, 0, 1, 0, 0, 0, 0, 0, 1, 0, 0, 0, 0, 0, 0,\n",
       "       0, 0, 1, 0, 1, 1, 1, 0, 1, 0, 1, 0, 0, 0, 0, 0, 0, 0, 0, 0, 0, 0,\n",
       "       1])"
      ]
     },
     "execution_count": 73,
     "metadata": {},
     "output_type": "execute_result"
    }
   ],
   "source": [
    "y_pred"
   ]
  },
  {
   "cell_type": "code",
   "execution_count": 142,
   "id": "1a714e35-529b-41cb-b10e-a9948022accd",
   "metadata": {},
   "outputs": [
    {
     "data": {
      "text/plain": [
       "label\n",
       "0    203\n",
       "1     62\n",
       "Name: count, dtype: int64"
      ]
     },
     "execution_count": 142,
     "metadata": {},
     "output_type": "execute_result"
    }
   ],
   "source": [
    "y_test.value_counts()"
   ]
  },
  {
   "cell_type": "code",
   "execution_count": 66,
   "id": "177bd801-1713-432f-a7c8-22283faf5f98",
   "metadata": {},
   "outputs": [
    {
     "data": {
      "text/plain": [
       "8"
      ]
     },
     "execution_count": 66,
     "metadata": {},
     "output_type": "execute_result"
    }
   ],
   "source": [
    "X_train.shape[1]"
   ]
  },
  {
   "cell_type": "code",
   "execution_count": 49,
   "id": "5e83c4ff-21d3-4a2d-9749-59f6504c5b2b",
   "metadata": {},
   "outputs": [],
   "source": [
    "assert X_train.shape[0] == y_train.shape[0]\n",
    "input_dim = X_train.shape[1]\n",
    "outuput_dim = 1"
   ]
  },
  {
   "cell_type": "code",
   "execution_count": 50,
   "id": "17f1835b-306c-4b8a-ab62-dfc90ddd2733",
   "metadata": {},
   "outputs": [
    {
     "name": "stdout",
     "output_type": "stream",
     "text": [
      "Model: \"sequential\"\n",
      "_________________________________________________________________\n",
      " Layer (type)                Output Shape              Param #   \n",
      "=================================================================\n",
      " dense (Dense)               (None, 256)               2304      \n",
      "                                                                 \n",
      " dense_1 (Dense)             (None, 256)               65792     \n",
      "                                                                 \n",
      " dense_2 (Dense)             (None, 256)               65792     \n",
      "                                                                 \n",
      " dense_3 (Dense)             (None, 1)                 257       \n",
      "                                                                 \n",
      "=================================================================\n",
      "Total params: 134145 (524.00 KB)\n",
      "Trainable params: 134145 (524.00 KB)\n",
      "Non-trainable params: 0 (0.00 Byte)\n",
      "_________________________________________________________________\n"
     ]
    }
   ],
   "source": [
    "model = keras.models.Sequential([\n",
    "    keras.layers.Dense(256, activation=tf.nn.relu, input_shape=(X_train.shape[1],)),\n",
    "    keras.layers.Dense(256, activation=tf.nn.relu),\n",
    "    keras.layers.Dense(256, activation=tf.nn.relu),\n",
    "    keras.layers.Dense(outuput_dim, activation=tf.nn.sigmoid)\n",
    "])    \n",
    "\n",
    "model.compile(optimizer = 'adam', loss = 'binary_crossentropy', metrics = ['accuracy'])\n",
    "\n",
    "model.summary()"
   ]
  },
  {
   "cell_type": "code",
   "execution_count": 51,
   "id": "60181088-2b36-436d-aeea-6c42f9cd8a68",
   "metadata": {},
   "outputs": [
    {
     "name": "stdout",
     "output_type": "stream",
     "text": [
      "Epoch 1/50\n",
      "17/17 - 1s - loss: 0.6033 - accuracy: 0.7058 - 1s/epoch - 61ms/step\n",
      "Epoch 2/50\n",
      "17/17 - 0s - loss: 0.4094 - accuracy: 0.8436 - 75ms/epoch - 4ms/step\n",
      "Epoch 3/50\n",
      "17/17 - 0s - loss: 0.2963 - accuracy: 0.8771 - 73ms/epoch - 4ms/step\n",
      "Epoch 4/50\n",
      "17/17 - 0s - loss: 0.2314 - accuracy: 0.9032 - 74ms/epoch - 4ms/step\n",
      "Epoch 5/50\n",
      "17/17 - 0s - loss: 0.2050 - accuracy: 0.9236 - 76ms/epoch - 4ms/step\n",
      "Epoch 6/50\n",
      "17/17 - 0s - loss: 0.1795 - accuracy: 0.9274 - 73ms/epoch - 4ms/step\n",
      "Epoch 7/50\n",
      "17/17 - 0s - loss: 0.1582 - accuracy: 0.9367 - 62ms/epoch - 4ms/step\n",
      "Epoch 8/50\n",
      "17/17 - 0s - loss: 0.1662 - accuracy: 0.9460 - 65ms/epoch - 4ms/step\n",
      "Epoch 9/50\n",
      "17/17 - 0s - loss: 0.1341 - accuracy: 0.9497 - 65ms/epoch - 4ms/step\n",
      "Epoch 10/50\n",
      "17/17 - 0s - loss: 0.1582 - accuracy: 0.9311 - 63ms/epoch - 4ms/step\n",
      "Epoch 11/50\n",
      "17/17 - 0s - loss: 0.1199 - accuracy: 0.9534 - 66ms/epoch - 4ms/step\n",
      "Epoch 12/50\n",
      "17/17 - 0s - loss: 0.0962 - accuracy: 0.9721 - 63ms/epoch - 4ms/step\n",
      "Epoch 13/50\n",
      "17/17 - 0s - loss: 0.0925 - accuracy: 0.9628 - 62ms/epoch - 4ms/step\n",
      "Epoch 14/50\n",
      "17/17 - 0s - loss: 0.0947 - accuracy: 0.9683 - 63ms/epoch - 4ms/step\n",
      "Epoch 15/50\n",
      "17/17 - 0s - loss: 0.0868 - accuracy: 0.9702 - 59ms/epoch - 3ms/step\n",
      "Epoch 16/50\n",
      "17/17 - 0s - loss: 0.0717 - accuracy: 0.9777 - 64ms/epoch - 4ms/step\n",
      "Epoch 17/50\n",
      "17/17 - 0s - loss: 0.0721 - accuracy: 0.9721 - 61ms/epoch - 4ms/step\n",
      "Epoch 18/50\n",
      "17/17 - 0s - loss: 0.0693 - accuracy: 0.9702 - 60ms/epoch - 4ms/step\n",
      "Epoch 19/50\n",
      "17/17 - 0s - loss: 0.0568 - accuracy: 0.9832 - 62ms/epoch - 4ms/step\n",
      "Epoch 20/50\n",
      "17/17 - 0s - loss: 0.0644 - accuracy: 0.9758 - 61ms/epoch - 4ms/step\n",
      "Epoch 21/50\n",
      "17/17 - 0s - loss: 0.0708 - accuracy: 0.9758 - 65ms/epoch - 4ms/step\n",
      "Epoch 22/50\n",
      "17/17 - 0s - loss: 0.0464 - accuracy: 0.9870 - 59ms/epoch - 3ms/step\n",
      "Epoch 23/50\n",
      "17/17 - 0s - loss: 0.0559 - accuracy: 0.9814 - 60ms/epoch - 4ms/step\n",
      "Epoch 24/50\n",
      "17/17 - 0s - loss: 0.0535 - accuracy: 0.9795 - 62ms/epoch - 4ms/step\n",
      "Epoch 25/50\n",
      "17/17 - 0s - loss: 0.0527 - accuracy: 0.9795 - 58ms/epoch - 3ms/step\n",
      "Epoch 26/50\n",
      "17/17 - 0s - loss: 0.0819 - accuracy: 0.9646 - 57ms/epoch - 3ms/step\n",
      "Epoch 27/50\n",
      "17/17 - 0s - loss: 0.0660 - accuracy: 0.9777 - 66ms/epoch - 4ms/step\n",
      "Epoch 28/50\n",
      "17/17 - 0s - loss: 0.0566 - accuracy: 0.9777 - 61ms/epoch - 4ms/step\n",
      "Epoch 29/50\n",
      "17/17 - 0s - loss: 0.0513 - accuracy: 0.9832 - 66ms/epoch - 4ms/step\n",
      "Epoch 30/50\n",
      "17/17 - 0s - loss: 0.0472 - accuracy: 0.9832 - 58ms/epoch - 3ms/step\n",
      "Epoch 31/50\n",
      "17/17 - 0s - loss: 0.0392 - accuracy: 0.9888 - 57ms/epoch - 3ms/step\n",
      "Epoch 32/50\n",
      "17/17 - 0s - loss: 0.0346 - accuracy: 0.9888 - 65ms/epoch - 4ms/step\n",
      "Epoch 33/50\n",
      "17/17 - 0s - loss: 0.0477 - accuracy: 0.9832 - 58ms/epoch - 3ms/step\n",
      "Epoch 34/50\n",
      "17/17 - 0s - loss: 0.0313 - accuracy: 0.9907 - 58ms/epoch - 3ms/step\n",
      "Epoch 35/50\n",
      "17/17 - 0s - loss: 0.0420 - accuracy: 0.9814 - 58ms/epoch - 3ms/step\n",
      "Epoch 36/50\n",
      "17/17 - 0s - loss: 0.0783 - accuracy: 0.9665 - 56ms/epoch - 3ms/step\n",
      "Epoch 37/50\n",
      "17/17 - 0s - loss: 0.0688 - accuracy: 0.9758 - 57ms/epoch - 3ms/step\n",
      "Epoch 38/50\n",
      "17/17 - 0s - loss: 0.0355 - accuracy: 0.9870 - 58ms/epoch - 3ms/step\n",
      "Epoch 39/50\n",
      "17/17 - 0s - loss: 0.0391 - accuracy: 0.9888 - 56ms/epoch - 3ms/step\n",
      "Epoch 40/50\n",
      "17/17 - 0s - loss: 0.0306 - accuracy: 0.9907 - 57ms/epoch - 3ms/step\n",
      "Epoch 41/50\n",
      "17/17 - 0s - loss: 0.0337 - accuracy: 0.9944 - 57ms/epoch - 3ms/step\n",
      "Epoch 42/50\n",
      "17/17 - 0s - loss: 0.0424 - accuracy: 0.9832 - 58ms/epoch - 3ms/step\n",
      "Epoch 43/50\n",
      "17/17 - 0s - loss: 0.0611 - accuracy: 0.9758 - 57ms/epoch - 3ms/step\n",
      "Epoch 44/50\n",
      "17/17 - 0s - loss: 0.0403 - accuracy: 0.9907 - 58ms/epoch - 3ms/step\n",
      "Epoch 45/50\n",
      "17/17 - 0s - loss: 0.0503 - accuracy: 0.9758 - 62ms/epoch - 4ms/step\n",
      "Epoch 46/50\n",
      "17/17 - 0s - loss: 0.0434 - accuracy: 0.9832 - 62ms/epoch - 4ms/step\n",
      "Epoch 47/50\n",
      "17/17 - 0s - loss: 0.0349 - accuracy: 0.9888 - 62ms/epoch - 4ms/step\n",
      "Epoch 48/50\n",
      "17/17 - 0s - loss: 0.0295 - accuracy: 0.9944 - 57ms/epoch - 3ms/step\n",
      "Epoch 49/50\n",
      "17/17 - 0s - loss: 0.0243 - accuracy: 0.9926 - 62ms/epoch - 4ms/step\n",
      "Epoch 50/50\n",
      "17/17 - 0s - loss: 0.0242 - accuracy: 0.9907 - 62ms/epoch - 4ms/step\n"
     ]
    }
   ],
   "source": [
    "history = model.fit(X_train, y_train, workers=4, epochs=50, verbose=2)\n"
   ]
  },
  {
   "cell_type": "code",
   "execution_count": 52,
   "id": "0df657a4-3f39-4375-a6a9-7d1f31414c16",
   "metadata": {},
   "outputs": [
    {
     "data": {
      "image/png": "[encoded data removed]",
      "text/plain": [
       "<Figure size 1600x500 with 2 Axes>"
      ]
     },
     "metadata": {},
     "output_type": "display_data"
    }
   ],
   "source": [
    "# Convertimos el historico a dataframe (formato de pandas)\n",
    "df = pd.DataFrame(history.history)\n",
    "\n",
    "# creamos un espacio para pintar nuestros graficos\n",
    "f = plt.figure(figsize=(16, 5))\n",
    "\n",
    "rows = 1\n",
    "cols = 2\n",
    "\n",
    "# Gráfico a la izquierda, vemos el accuracy de nuestro conjunto de entrada vs conjunto de validación.\n",
    "ax = f.add_subplot(rows, cols, 1)\n",
    "sns.lineplot(data=df[\"accuracy\"].iloc[3:-1])\n",
    "\n",
    "\n",
    "# Gráfico a la derecha, vemos el loss de nuestro conjunto de entrada vs conjunto de validación.\n",
    "ax = f.add_subplot(rows, cols, 2)\n",
    "sns.lineplot(data=df[\"loss\"].iloc[3:-1]);"
   ]
  },
  {
   "cell_type": "code",
   "execution_count": 53,
   "id": "b7ad33d0-0fd1-4fba-8652-bca2ca724b90",
   "metadata": {},
   "outputs": [
    {
     "name": "stdout",
     "output_type": "stream",
     "text": [
      "9/9 [==============================] - 0s 5ms/step - loss: 0.1385 - accuracy: 0.9736\n"
     ]
    },
    {
     "data": {
      "text/plain": [
       "[0.1385250836610794, 0.9735848903656006]"
      ]
     },
     "execution_count": 53,
     "metadata": {},
     "output_type": "execute_result"
    }
   ],
   "source": [
    "model.evaluate(X_test,y_test)"
   ]
  }
 ],
 "metadata": {
  "kernelspec": {
   "display_name": "Python 3 (ipykernel)",
   "language": "python",
   "name": "python3"
  },
  "language_info": {
   "codemirror_mode": {
    "name": "ipython",
    "version": 3
   },
   "file_extension": ".py",
   "mimetype": "text/x-python",
   "name": "python",
   "nbconvert_exporter": "python",
   "pygments_lexer": "ipython3",
   "version": "3.11.6"
  }
 },
 "nbformat": 4,
 "nbformat_minor": 5
}
